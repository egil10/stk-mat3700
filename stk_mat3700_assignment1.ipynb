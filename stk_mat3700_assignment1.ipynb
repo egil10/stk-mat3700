{
  "cells": [
    {
      "cell_type": "markdown",
      "metadata": {},
      "source": [
        "# STK-MAT3700/4700 Mandatory Assignment 1\n",
        "## Portfolio Optimization and Black-Scholes Options Pricing\n",
        "\n",
        "**Author:** [Your Name]  \n",
        "**Course:** STK-MAT3700/4700  \n",
        "**Assignment:** 1 of 1  \n",
        "**Date:** [Current Date]\n",
        "\n",
        "---\n",
        "\n",
        "This notebook contains the complete solution for both problems:\n",
        "- **Problem 1:** Markowitz Portfolio Optimization\n",
        "- **Problem 2:** Black-Scholes Options Pricing and Implied Volatility\n"
      ]
    }
  ],
  "metadata": {
    "language_info": {
      "name": "python"
    }
  },
  "nbformat": 4,
  "nbformat_minor": 2
}
